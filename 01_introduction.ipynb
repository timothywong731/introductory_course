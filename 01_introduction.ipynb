{
 "cells": [
  {
   "cell_type": "markdown",
   "metadata": {},
   "source": [
    "# Setup\n",
    "\n",
    "You need to install `miniconda` which is a dependency manager for `python`. Go to this link to download the latest version: https://docs.anaconda.com/free/miniconda/\n",
    "\n",
    "As as developer, it is common to use an Interactive Development Environment (IDE) to develop your code. We will use Microsoft VScode which you can download here: https://code.visualstudio.com/"
   ]
  },
  {
   "cell_type": "markdown",
   "metadata": {},
   "source": [
    "# Programming Environment\n",
    "\n",
    "Python is a general purpose programming language which can also be used for statistics and machine learning. The language is open sourced and free for personal, academic and commerical use. It is available on multiple platforms including Windows, Linux and MacOS. In recent years, Python has gained popularity and become one of the fastest growing programming languages in the world. In\n",
    "this chapter, we will go through the basics of Python.\n",
    "\n",
    "Visual Studio Code (VS Code) is a popular Integrated Development Environment (IDE) for the many programming languages. It is a very powerful editor which enables programmers to interact with the Python language. It is also free for personal and commercial use."
   ]
  },
  {
   "cell_type": "markdown",
   "metadata": {},
   "source": [
    "## Packages\n",
    "\n",
    "Functionality in Python can be extended through packages. Most packages are opensourced with a few exceptions. They are published on community-maintained repositories such as [PyPi](https://pypi.org).\n",
    "\n",
    "Python packages already installed can be listed using the terminal command `pip freeze`. This can be executed in VS Code using the maginc command box. It starts with the `%` symbol followed by your terminal command:"
   ]
  },
  {
   "cell_type": "code",
   "execution_count": 1,
   "metadata": {},
   "outputs": [
    {
     "name": "stdout",
     "output_type": "stream",
     "text": [
      "asttokens==2.4.1\n",
      "colorama==0.4.6\n",
      "comm==0.2.2\n",
      "contourpy==1.2.1\n",
      "cycler==0.12.1\n",
      "debugpy==1.8.1\n",
      "decorator==5.1.1\n",
      "exceptiongroup==1.2.1\n",
      "executing==2.0.1\n",
      "fonttools==4.52.4\n",
      "ipykernel==6.29.4\n",
      "ipython==8.24.0\n",
      "jedi==0.19.1\n",
      "joblib==1.4.2\n",
      "jupyter_client==8.6.2\n",
      "jupyter_core==5.7.2\n",
      "kiwisolver==1.4.5\n",
      "matplotlib==3.9.0\n",
      "matplotlib-inline==0.1.7\n",
      "nest-asyncio==1.6.0\n",
      "numpy==1.26.4\n",
      "packaging==24.0\n",
      "pandas==2.2.2\n",
      "parso==0.8.4\n",
      "pillow==10.3.0\n",
      "platformdirs==4.2.2\n",
      "prompt_toolkit==3.0.45\n",
      "psutil==5.9.8\n",
      "pure-eval==0.2.2\n",
      "Pygments==2.18.0\n",
      "pyparsing==3.1.2\n",
      "python-dateutil==2.9.0.post0\n",
      "pytz==2024.1\n",
      "pywin32==306\n",
      "pyzmq==26.0.3\n",
      "scikit-learn==1.5.0\n",
      "scipy==1.13.1\n",
      "six==1.16.0\n",
      "stack-data==0.6.3\n",
      "threadpoolctl==3.5.0\n",
      "tornado==6.4\n",
      "traitlets==5.14.3\n",
      "typing_extensions==4.12.0\n",
      "tzdata==2024.1\n",
      "wcwidth==0.2.13\n",
      "Note: you may need to restart the kernel to use updated packages.\n"
     ]
    }
   ],
   "source": [
    "# List all existing packages\n",
    "%pip freeze"
   ]
  },
  {
   "cell_type": "markdown",
   "metadata": {},
   "source": [
    "To install new packages, simply use the `pip install` command. The following code chunk will install the `pandas` package which handles data frame manipulation in Python."
   ]
  },
  {
   "cell_type": "code",
   "execution_count": 2,
   "metadata": {},
   "outputs": [
    {
     "name": "stdout",
     "output_type": "stream",
     "text": [
      "Requirement already satisfied: pandas in .\\.venv\\lib\\site-packages (2.2.2)\n",
      "Requirement already satisfied: numpy>=1.22.4 in .\\.venv\\lib\\site-packages (from pandas) (1.26.4)\n",
      "Requirement already satisfied: python-dateutil>=2.8.2 in .\\.venv\\lib\\site-packages (from pandas) (2.9.0.post0)\n",
      "Requirement already satisfied: pytz>=2020.1 in .\\.venv\\lib\\site-packages (from pandas) (2024.1)\n",
      "Requirement already satisfied: tzdata>=2022.7 in .\\.venv\\lib\\site-packages (from pandas) (2024.1)\n",
      "Requirement already satisfied: six>=1.5 in .\\.venv\\lib\\site-packages (from python-dateutil>=2.8.2->pandas) (1.16.0)\n",
      "Note: you may need to restart the kernel to use updated packages.\n"
     ]
    }
   ],
   "source": [
    "# Install the pandas package\n",
    "%pip install pandas"
   ]
  },
  {
   "cell_type": "markdown",
   "metadata": {},
   "source": [
    "# Programming Concepts\n",
    "\n",
    "In Python, values ares tored in variables. Users can assign value to variable using the `=` symbol. The `#` character is used for commenting.\n",
    "\n",
    "When creating a new variable, it is important to avoid using reserved words. A list of reserved words can be found here: https://www.w3schools.com/python/python_ref_keywords.asp"
   ]
  },
  {
   "cell_type": "code",
   "execution_count": 3,
   "metadata": {},
   "outputs": [
    {
     "name": "stdout",
     "output_type": "stream",
     "text": [
      "100\n"
     ]
    }
   ],
   "source": [
    "# This is a line of comment\n",
    "a = 5\n",
    "b = 20\n",
    "c = a * b\n",
    "print(c)"
   ]
  },
  {
   "cell_type": "markdown",
   "metadata": {},
   "source": [
    "Variables can be defined using different cases, as shown below. Different notations usually signify the scope (ie. local vs global) of the variables."
   ]
  },
  {
   "cell_type": "code",
   "execution_count": 4,
   "metadata": {},
   "outputs": [],
   "source": [
    "# These are commonly used to denote local variables\n",
    "my_snake_case_var = \"This is snake case\"\n",
    "myCamalCaseVar = \"This is camal case\"\n",
    "MyPascalCaseVar = \"This is pascal case\"\n",
    "\n",
    "# This usually denotes global variables\n",
    "MY_UPPER_CASE_VAR = \"This is upper case\""
   ]
  },
  {
   "cell_type": "markdown",
   "metadata": {},
   "source": [
    "## Data Structures\n",
    "\n"
   ]
  },
  {
   "cell_type": "markdown",
   "metadata": {},
   "source": [
    "## List and Subsetting\n",
    "Variable can be in the form of a list if element are in the same type. Users can subset the list by index number."
   ]
  },
  {
   "cell_type": "code",
   "execution_count": 5,
   "metadata": {},
   "outputs": [
    {
     "data": {
      "text/plain": [
       "5"
      ]
     },
     "execution_count": 5,
     "metadata": {},
     "output_type": "execute_result"
    }
   ],
   "source": [
    "# Create a list\n",
    "myList1 = [1, 2, 3, 4, 5]\n",
    "\n",
    "# Print the list length\n",
    "len(myList1)"
   ]
  },
  {
   "cell_type": "code",
   "execution_count": 6,
   "metadata": {},
   "outputs": [
    {
     "data": {
      "text/plain": [
       "15"
      ]
     },
     "execution_count": 6,
     "metadata": {},
     "output_type": "execute_result"
    }
   ],
   "source": [
    "# Sum the value of a list\n",
    "sum(myList1)"
   ]
  },
  {
   "cell_type": "code",
   "execution_count": 7,
   "metadata": {},
   "outputs": [
    {
     "data": {
      "text/plain": [
       "5"
      ]
     },
     "execution_count": 7,
     "metadata": {},
     "output_type": "execute_result"
    }
   ],
   "source": [
    "# Maximum value of the list\n",
    "max(myList1)"
   ]
  },
  {
   "cell_type": "code",
   "execution_count": 8,
   "metadata": {},
   "outputs": [
    {
     "data": {
      "text/plain": [
       "1"
      ]
     },
     "execution_count": 8,
     "metadata": {},
     "output_type": "execute_result"
    }
   ],
   "source": [
    "# Minumum value of the list\n",
    "min(myList1)"
   ]
  },
  {
   "cell_type": "code",
   "execution_count": 9,
   "metadata": {},
   "outputs": [
    {
     "data": {
      "text/plain": [
       "3.0"
      ]
     },
     "execution_count": 9,
     "metadata": {},
     "output_type": "execute_result"
    }
   ],
   "source": [
    "# Arithmetic mean of the list\n",
    "sum(myList1) / len(myList1)"
   ]
  },
  {
   "cell_type": "markdown",
   "metadata": {},
   "source": [
    "Index numbers start count at zero. A list containing five elements would have indexes \\(0, 1, 2, 3, 4\\)."
   ]
  },
  {
   "cell_type": "code",
   "execution_count": 10,
   "metadata": {},
   "outputs": [
    {
     "data": {
      "text/plain": [
       "4"
      ]
     },
     "execution_count": 10,
     "metadata": {},
     "output_type": "execute_result"
    }
   ],
   "source": [
    "# Print our the element at index 3\n",
    "myList1[3]"
   ]
  },
  {
   "cell_type": "markdown",
   "metadata": {},
   "source": [
    "It is possible to loop through a list and perform some logic with it. See code chunk below:"
   ]
  },
  {
   "cell_type": "code",
   "execution_count": 11,
   "metadata": {},
   "outputs": [
    {
     "name": "stdout",
     "output_type": "stream",
     "text": [
      "The value is 1.\n",
      "The value is 2.\n",
      "The value is 3.\n",
      "The value is 4.\n",
      "The value is 5.\n"
     ]
    }
   ],
   "source": [
    "# Using a for loop\n",
    "for i in myList1:\n",
    "    print(f\"The value is {i}.\")"
   ]
  },
  {
   "cell_type": "code",
   "execution_count": 12,
   "metadata": {},
   "outputs": [
    {
     "name": "stdout",
     "output_type": "stream",
     "text": [
      "[2, 4, 6, 8, 10]\n"
     ]
    }
   ],
   "source": [
    "# Using inline format to create a new list variable\n",
    "myList2 = [x*2 for x in myList1]\n",
    "print(myList2)"
   ]
  },
  {
   "cell_type": "markdown",
   "metadata": {},
   "source": [
    "A range can also be iterated through a for loop and perform similar operations."
   ]
  },
  {
   "cell_type": "code",
   "execution_count": 13,
   "metadata": {},
   "outputs": [
    {
     "name": "stdout",
     "output_type": "stream",
     "text": [
      "10\n",
      "12\n",
      "14\n",
      "16\n",
      "18\n"
     ]
    }
   ],
   "source": [
    "myList3 = range(10,20,2)\n",
    "for x in myList3:\n",
    "    print(x)"
   ]
  },
  {
   "cell_type": "markdown",
   "metadata": {},
   "source": [
    "## Datetime"
   ]
  },
  {
   "cell_type": "code",
   "execution_count": 14,
   "metadata": {},
   "outputs": [
    {
     "data": {
      "text/plain": [
       "datetime.datetime(2024, 5, 15, 0, 0)"
      ]
     },
     "execution_count": 14,
     "metadata": {},
     "output_type": "execute_result"
    }
   ],
   "source": [
    "import datetime\n",
    "myDate = datetime.datetime.fromisoformat(\"2024-05-15\")\n",
    "myDate"
   ]
  },
  {
   "cell_type": "code",
   "execution_count": 15,
   "metadata": {},
   "outputs": [
    {
     "data": {
      "text/plain": [
       "[datetime.datetime(2024, 5, 16, 0, 0),\n",
       " datetime.datetime(2024, 5, 17, 0, 0),\n",
       " datetime.datetime(2024, 5, 18, 0, 0),\n",
       " datetime.datetime(2024, 5, 19, 0, 0),\n",
       " datetime.datetime(2024, 5, 20, 0, 0)]"
      ]
     },
     "execution_count": 15,
     "metadata": {},
     "output_type": "execute_result"
    }
   ],
   "source": [
    "myNewDates = [myDate + datetime.timedelta(days=x) for x in myList1]\n",
    "myNewDates"
   ]
  },
  {
   "cell_type": "markdown",
   "metadata": {},
   "source": [
    "Users can perform datetime operations like below:"
   ]
  },
  {
   "cell_type": "code",
   "execution_count": 16,
   "metadata": {},
   "outputs": [
    {
     "data": {
      "text/plain": [
       "5"
      ]
     },
     "execution_count": 16,
     "metadata": {},
     "output_type": "execute_result"
    }
   ],
   "source": [
    "# Calculate the day of week of this date value\n",
    "# Return the day of the week as an integer, where Monday is 0 and Sunday is 6.\n",
    "myNewDates[2].weekday()"
   ]
  },
  {
   "cell_type": "code",
   "execution_count": 17,
   "metadata": {},
   "outputs": [
    {
     "data": {
      "text/plain": [
       "datetime.datetime(2024, 5, 18, 5, 0)"
      ]
     },
     "execution_count": 17,
     "metadata": {},
     "output_type": "execute_result"
    }
   ],
   "source": [
    "myNewDates[2] + datetime.timedelta(hours=5)"
   ]
  },
  {
   "cell_type": "markdown",
   "metadata": {},
   "source": [
    "## Logical Operators"
   ]
  },
  {
   "cell_type": "code",
   "execution_count": 18,
   "metadata": {},
   "outputs": [],
   "source": [
    "myVar1 = 25\n",
    "myVar2 = 30"
   ]
  },
  {
   "cell_type": "code",
   "execution_count": 19,
   "metadata": {},
   "outputs": [
    {
     "data": {
      "text/plain": [
       "True"
      ]
     },
     "execution_count": 19,
     "metadata": {},
     "output_type": "execute_result"
    }
   ],
   "source": [
    "# Returns True if value is greater than 5\n",
    "myVar1 > 5"
   ]
  },
  {
   "cell_type": "code",
   "execution_count": 20,
   "metadata": {},
   "outputs": [
    {
     "data": {
      "text/plain": [
       "True"
      ]
     },
     "execution_count": 20,
     "metadata": {},
     "output_type": "execute_result"
    }
   ],
   "source": [
    "# Returns True if value is equal to 25\n",
    "myVar1 == 25"
   ]
  },
  {
   "cell_type": "code",
   "execution_count": 21,
   "metadata": {},
   "outputs": [
    {
     "data": {
      "text/plain": [
       "True"
      ]
     },
     "execution_count": 21,
     "metadata": {},
     "output_type": "execute_result"
    }
   ],
   "source": [
    "# Returns True if both conditions are satified\n",
    "myVar1 > 20 & myVar2 < 35"
   ]
  },
  {
   "cell_type": "code",
   "execution_count": 22,
   "metadata": {},
   "outputs": [
    {
     "data": {
      "text/plain": [
       "False"
      ]
     },
     "execution_count": 22,
     "metadata": {},
     "output_type": "execute_result"
    }
   ],
   "source": [
    "# Returns True if at least one condition is satified\n",
    "myVar1 > 20 | myVar2 < 20"
   ]
  },
  {
   "cell_type": "markdown",
   "metadata": {},
   "source": [
    "## Dictonary\n",
    "\n",
    "A dictionary can be used to store key-valyue-pairs of different types. Example below:"
   ]
  },
  {
   "cell_type": "code",
   "execution_count": 23,
   "metadata": {},
   "outputs": [
    {
     "name": "stdout",
     "output_type": "stream",
     "text": [
      "{'name': 'John Doe', 'dob': datetime.datetime(1980, 6, 20, 0, 0), 'account_balance': 387.59}\n"
     ]
    }
   ],
   "source": [
    "myPerson = {\n",
    "    \"name\": \"John Doe\",\n",
    "    \"dob\": datetime.datetime.fromisoformat(\"1980-06-20\"),\n",
    "    \"account_balance\": 387.59,\n",
    "}\n",
    "print(myPerson)"
   ]
  },
  {
   "cell_type": "code",
   "execution_count": 24,
   "metadata": {},
   "outputs": [
    {
     "data": {
      "text/plain": [
       "387.59"
      ]
     },
     "execution_count": 24,
     "metadata": {},
     "output_type": "execute_result"
    }
   ],
   "source": [
    "# Subset an element by name\n",
    "myPerson[\"account_balance\"]"
   ]
  },
  {
   "cell_type": "markdown",
   "metadata": {},
   "source": [
    "## If-Else Loops\n",
    "\n",
    "An `if-else` loop can be used to perform operations based on conditions."
   ]
  },
  {
   "cell_type": "code",
   "execution_count": 25,
   "metadata": {},
   "outputs": [
    {
     "name": "stdout",
     "output_type": "stream",
     "text": [
      "Full of cash\n"
     ]
    }
   ],
   "source": [
    "if myPerson[\"account_balance\"] > 100:\n",
    "    print(\"Full of cash\")\n",
    "else:\n",
    "    print(\"Insufficient money\")"
   ]
  },
  {
   "cell_type": "markdown",
   "metadata": {},
   "source": [
    "The `if` block can be placed within another loop to form complex logic. The code chunk below creates a new list from an existing list."
   ]
  },
  {
   "cell_type": "code",
   "execution_count": 26,
   "metadata": {},
   "outputs": [
    {
     "name": "stdout",
     "output_type": "stream",
     "text": [
      "['Number is 3', 'Number is 4', 'Number is 5']\n"
     ]
    }
   ],
   "source": [
    "myList4 = []\n",
    "\n",
    "for x in myList1:\n",
    "    if x > 2:\n",
    "        text = f\"Number is {x}\"\n",
    "        myList4.append(text)\n",
    "\n",
    "print(myList4)"
   ]
  },
  {
   "cell_type": "markdown",
   "metadata": {},
   "source": [
    "Inline `if-else` loop can be used instead. The following code chunk is rquivalent to the one above."
   ]
  },
  {
   "cell_type": "code",
   "execution_count": 27,
   "metadata": {},
   "outputs": [
    {
     "name": "stdout",
     "output_type": "stream",
     "text": [
      "['Number is 3', 'Number is 4', 'Number is 5']\n"
     ]
    }
   ],
   "source": [
    "myList4 = [f\"Number is {x}\" for x in myList1 if x > 2]\n",
    "print(myList4)"
   ]
  },
  {
   "cell_type": "markdown",
   "metadata": {},
   "source": [
    "## Data Frame\n",
    "\n",
    "A data frame is a list of variables of the same number of rows with unique column names. In many cases, datasets extracted from CSV file or SQL server are returned as a data frame object."
   ]
  },
  {
   "cell_type": "code",
   "execution_count": 28,
   "metadata": {},
   "outputs": [
    {
     "data": {
      "text/html": [
       "<div>\n",
       "<style scoped>\n",
       "    .dataframe tbody tr th:only-of-type {\n",
       "        vertical-align: middle;\n",
       "    }\n",
       "\n",
       "    .dataframe tbody tr th {\n",
       "        vertical-align: top;\n",
       "    }\n",
       "\n",
       "    .dataframe thead th {\n",
       "        text-align: right;\n",
       "    }\n",
       "</style>\n",
       "<table border=\"1\" class=\"dataframe\">\n",
       "  <thead>\n",
       "    <tr style=\"text-align: right;\">\n",
       "      <th></th>\n",
       "      <th>title</th>\n",
       "      <th>year</th>\n",
       "      <th>box</th>\n",
       "      <th>bondActor</th>\n",
       "    </tr>\n",
       "  </thead>\n",
       "  <tbody>\n",
       "    <tr>\n",
       "      <th>0</th>\n",
       "      <td>Dr. No</td>\n",
       "      <td>1962</td>\n",
       "      <td>59.5</td>\n",
       "      <td>Sean Connery</td>\n",
       "    </tr>\n",
       "    <tr>\n",
       "      <th>1</th>\n",
       "      <td>Goldfinger</td>\n",
       "      <td>1964</td>\n",
       "      <td>125.0</td>\n",
       "      <td>Sean Connery</td>\n",
       "    </tr>\n",
       "    <tr>\n",
       "      <th>2</th>\n",
       "      <td>Diamonds are Forever</td>\n",
       "      <td>1971</td>\n",
       "      <td>120.0</td>\n",
       "      <td>Sean Connery</td>\n",
       "    </tr>\n",
       "    <tr>\n",
       "      <th>3</th>\n",
       "      <td>Moonraker</td>\n",
       "      <td>1979</td>\n",
       "      <td>210.3</td>\n",
       "      <td>Roger Moore</td>\n",
       "    </tr>\n",
       "    <tr>\n",
       "      <th>4</th>\n",
       "      <td>The Living Daylights</td>\n",
       "      <td>1987</td>\n",
       "      <td>191.2</td>\n",
       "      <td>Timothy Dalton</td>\n",
       "    </tr>\n",
       "    <tr>\n",
       "      <th>5</th>\n",
       "      <td>GoldenEye</td>\n",
       "      <td>1995</td>\n",
       "      <td>355.0</td>\n",
       "      <td>Pierce Brosnan</td>\n",
       "    </tr>\n",
       "    <tr>\n",
       "      <th>6</th>\n",
       "      <td>Casino Royale</td>\n",
       "      <td>2006</td>\n",
       "      <td>599.0</td>\n",
       "      <td>Daniel Craig</td>\n",
       "    </tr>\n",
       "  </tbody>\n",
       "</table>\n",
       "</div>"
      ],
      "text/plain": [
       "                  title  year    box       bondActor\n",
       "0                Dr. No  1962   59.5    Sean Connery\n",
       "1            Goldfinger  1964  125.0    Sean Connery\n",
       "2  Diamonds are Forever  1971  120.0    Sean Connery\n",
       "3             Moonraker  1979  210.3     Roger Moore\n",
       "4  The Living Daylights  1987  191.2  Timothy Dalton\n",
       "5             GoldenEye  1995  355.0  Pierce Brosnan\n",
       "6         Casino Royale  2006  599.0    Daniel Craig"
      ]
     },
     "execution_count": 28,
     "metadata": {},
     "output_type": "execute_result"
    }
   ],
   "source": [
    "import pandas as pd\n",
    "\n",
    "df = pd.DataFrame({\n",
    "    \"title\": [\n",
    "        \"Dr. No\",\n",
    "\t\t\"Goldfinger\",\n",
    "        \"Diamonds are Forever\",\n",
    "        \"Moonraker\",\n",
    "        \"The Living Daylights\",\n",
    "        \"GoldenEye\",\n",
    "        \"Casino Royale\"],\n",
    "    \"year\": [\n",
    "        1962, 1964, 1971, 1979, 1987, 1995, 2006],\n",
    "    \"box\": [59.5, 125, 120, 210.3, 191.2, 355, 599],\n",
    "    \"bondActor\": [\n",
    "        \"Sean Connery\",\n",
    "        \"Sean Connery\",\n",
    "        \"Sean Connery\",\n",
    "        \"Roger Moore\",\n",
    "        \"Timothy Dalton\",\n",
    "        \"Pierce Brosnan\",\n",
    "        \"Daniel Craig\"]\n",
    "})\n",
    "\n",
    "df"
   ]
  },
  {
   "cell_type": "markdown",
   "metadata": {},
   "source": [
    "Use the code chunk below to add a new row to an existing data frame."
   ]
  },
  {
   "cell_type": "code",
   "execution_count": 29,
   "metadata": {},
   "outputs": [
    {
     "data": {
      "text/html": [
       "<div>\n",
       "<style scoped>\n",
       "    .dataframe tbody tr th:only-of-type {\n",
       "        vertical-align: middle;\n",
       "    }\n",
       "\n",
       "    .dataframe tbody tr th {\n",
       "        vertical-align: top;\n",
       "    }\n",
       "\n",
       "    .dataframe thead th {\n",
       "        text-align: right;\n",
       "    }\n",
       "</style>\n",
       "<table border=\"1\" class=\"dataframe\">\n",
       "  <thead>\n",
       "    <tr style=\"text-align: right;\">\n",
       "      <th></th>\n",
       "      <th>title</th>\n",
       "      <th>year</th>\n",
       "      <th>box</th>\n",
       "      <th>bondActor</th>\n",
       "    </tr>\n",
       "  </thead>\n",
       "  <tbody>\n",
       "    <tr>\n",
       "      <th>0</th>\n",
       "      <td>Dr. No</td>\n",
       "      <td>1962</td>\n",
       "      <td>59.5</td>\n",
       "      <td>Sean Connery</td>\n",
       "    </tr>\n",
       "    <tr>\n",
       "      <th>1</th>\n",
       "      <td>Goldfinger</td>\n",
       "      <td>1964</td>\n",
       "      <td>125.0</td>\n",
       "      <td>Sean Connery</td>\n",
       "    </tr>\n",
       "    <tr>\n",
       "      <th>2</th>\n",
       "      <td>Diamonds are Forever</td>\n",
       "      <td>1971</td>\n",
       "      <td>120.0</td>\n",
       "      <td>Sean Connery</td>\n",
       "    </tr>\n",
       "    <tr>\n",
       "      <th>3</th>\n",
       "      <td>Moonraker</td>\n",
       "      <td>1979</td>\n",
       "      <td>210.3</td>\n",
       "      <td>Roger Moore</td>\n",
       "    </tr>\n",
       "    <tr>\n",
       "      <th>4</th>\n",
       "      <td>The Living Daylights</td>\n",
       "      <td>1987</td>\n",
       "      <td>191.2</td>\n",
       "      <td>Timothy Dalton</td>\n",
       "    </tr>\n",
       "    <tr>\n",
       "      <th>5</th>\n",
       "      <td>GoldenEye</td>\n",
       "      <td>1995</td>\n",
       "      <td>355.0</td>\n",
       "      <td>Pierce Brosnan</td>\n",
       "    </tr>\n",
       "    <tr>\n",
       "      <th>6</th>\n",
       "      <td>Casino Royale</td>\n",
       "      <td>2006</td>\n",
       "      <td>599.0</td>\n",
       "      <td>Daniel Craig</td>\n",
       "    </tr>\n",
       "    <tr>\n",
       "      <th>7</th>\n",
       "      <td>Spectre</td>\n",
       "      <td>2015</td>\n",
       "      <td>880.7</td>\n",
       "      <td>Daniel Craig</td>\n",
       "    </tr>\n",
       "  </tbody>\n",
       "</table>\n",
       "</div>"
      ],
      "text/plain": [
       "                  title  year    box       bondActor\n",
       "0                Dr. No  1962   59.5    Sean Connery\n",
       "1            Goldfinger  1964  125.0    Sean Connery\n",
       "2  Diamonds are Forever  1971  120.0    Sean Connery\n",
       "3             Moonraker  1979  210.3     Roger Moore\n",
       "4  The Living Daylights  1987  191.2  Timothy Dalton\n",
       "5             GoldenEye  1995  355.0  Pierce Brosnan\n",
       "6         Casino Royale  2006  599.0    Daniel Craig\n",
       "7               Spectre  2015  880.7    Daniel Craig"
      ]
     },
     "execution_count": 29,
     "metadata": {},
     "output_type": "execute_result"
    }
   ],
   "source": [
    "newRow = pd.DataFrame({\n",
    "    \"title\": [\"Spectre\"],\n",
    "    \"year\": [2015],\n",
    "    \"box\": [880.7],\n",
    "    \"bondActor\": [\"Daniel Craig\"]\n",
    "})\n",
    "\n",
    "df = pd.concat(\n",
    "    [df, newRow], \n",
    "    ignore_index=True\n",
    ")\n",
    "\n",
    "df"
   ]
  },
  {
   "cell_type": "code",
   "execution_count": 30,
   "metadata": {},
   "outputs": [
    {
     "data": {
      "text/plain": [
       "0      Sean Connery\n",
       "1      Sean Connery\n",
       "2      Sean Connery\n",
       "3       Roger Moore\n",
       "4    Timothy Dalton\n",
       "5    Pierce Brosnan\n",
       "6      Daniel Craig\n",
       "7      Daniel Craig\n",
       "Name: bondActor, dtype: object"
      ]
     },
     "execution_count": 30,
     "metadata": {},
     "output_type": "execute_result"
    }
   ],
   "source": [
    "# Subset a column by name\n",
    "df[\"bondActor\"]"
   ]
  },
  {
   "cell_type": "code",
   "execution_count": 31,
   "metadata": {},
   "outputs": [
    {
     "data": {
      "text/plain": [
       "0     True\n",
       "1     True\n",
       "2     True\n",
       "3    False\n",
       "4    False\n",
       "5    False\n",
       "6    False\n",
       "7    False\n",
       "Name: bondActor, dtype: bool"
      ]
     },
     "execution_count": 31,
     "metadata": {},
     "output_type": "execute_result"
    }
   ],
   "source": [
    "# Computes Boolean flag  where row value is equal to a certain value\n",
    "df[\"bondActor\"] == \"Sean Connery\""
   ]
  },
  {
   "cell_type": "code",
   "execution_count": 32,
   "metadata": {},
   "outputs": [
    {
     "data": {
      "text/html": [
       "<div>\n",
       "<style scoped>\n",
       "    .dataframe tbody tr th:only-of-type {\n",
       "        vertical-align: middle;\n",
       "    }\n",
       "\n",
       "    .dataframe tbody tr th {\n",
       "        vertical-align: top;\n",
       "    }\n",
       "\n",
       "    .dataframe thead th {\n",
       "        text-align: right;\n",
       "    }\n",
       "</style>\n",
       "<table border=\"1\" class=\"dataframe\">\n",
       "  <thead>\n",
       "    <tr style=\"text-align: right;\">\n",
       "      <th></th>\n",
       "      <th>title</th>\n",
       "      <th>year</th>\n",
       "      <th>box</th>\n",
       "      <th>bondActor</th>\n",
       "    </tr>\n",
       "  </thead>\n",
       "  <tbody>\n",
       "    <tr>\n",
       "      <th>0</th>\n",
       "      <td>Dr. No</td>\n",
       "      <td>1962</td>\n",
       "      <td>59.5</td>\n",
       "      <td>Sean Connery</td>\n",
       "    </tr>\n",
       "    <tr>\n",
       "      <th>1</th>\n",
       "      <td>Goldfinger</td>\n",
       "      <td>1964</td>\n",
       "      <td>125.0</td>\n",
       "      <td>Sean Connery</td>\n",
       "    </tr>\n",
       "    <tr>\n",
       "      <th>2</th>\n",
       "      <td>Diamonds are Forever</td>\n",
       "      <td>1971</td>\n",
       "      <td>120.0</td>\n",
       "      <td>Sean Connery</td>\n",
       "    </tr>\n",
       "  </tbody>\n",
       "</table>\n",
       "</div>"
      ],
      "text/plain": [
       "                  title  year    box     bondActor\n",
       "0                Dr. No  1962   59.5  Sean Connery\n",
       "1            Goldfinger  1964  125.0  Sean Connery\n",
       "2  Diamonds are Forever  1971  120.0  Sean Connery"
      ]
     },
     "execution_count": 32,
     "metadata": {},
     "output_type": "execute_result"
    }
   ],
   "source": [
    "# Subset the dataframe by filtering\n",
    "df[df[\"bondActor\"] == \"Sean Connery\"]"
   ]
  },
  {
   "cell_type": "markdown",
   "metadata": {},
   "source": [
    "Optionally, the dataframe can be subsetted by IDs using `df.iloc[:,:]` THe first value is the row index and second one is the column index. The `:` symbol indicates 'take everything'."
   ]
  },
  {
   "cell_type": "code",
   "execution_count": 33,
   "metadata": {},
   "outputs": [
    {
     "data": {
      "text/plain": [
       "title             GoldenEye\n",
       "year                   1995\n",
       "box                   355.0\n",
       "bondActor    Pierce Brosnan\n",
       "Name: 5, dtype: object"
      ]
     },
     "execution_count": 33,
     "metadata": {},
     "output_type": "execute_result"
    }
   ],
   "source": [
    "# Subset by index\n",
    "df.iloc[5,:]"
   ]
  },
  {
   "cell_type": "markdown",
   "metadata": {},
   "source": [
    "## Function\n",
    "\n",
    "User can create custom functions in Python. "
   ]
  },
  {
   "cell_type": "code",
   "execution_count": 34,
   "metadata": {},
   "outputs": [
    {
     "data": {
      "text/plain": [
       "True"
      ]
     },
     "execution_count": 34,
     "metadata": {},
     "output_type": "execute_result"
    }
   ],
   "source": [
    "# Defines a custom function\n",
    "def isOdd(x):\n",
    "    # Modulo operator runs the divide operation and returns the remainder\n",
    "    remainder = x % 2\n",
    "    # If a number divide by 2 gives remainder 1, then it is an odd number\n",
    "    equalToOne = remainder == 1\n",
    "    return equalToOne\n",
    "\n",
    "isOdd(5)"
   ]
  },
  {
   "cell_type": "markdown",
   "metadata": {},
   "source": [
    "A function can be applied through each element of aa list. The following code chunk uses inline syntax:"
   ]
  },
  {
   "cell_type": "code",
   "execution_count": 35,
   "metadata": {},
   "outputs": [
    {
     "data": {
      "text/plain": [
       "[True, False, True, False, True]"
      ]
     },
     "execution_count": 35,
     "metadata": {},
     "output_type": "execute_result"
    }
   ],
   "source": [
    "[isOdd(x) for x in myList1]"
   ]
  },
  {
   "cell_type": "markdown",
   "metadata": {},
   "source": [
    "The function `addTen()` below adds an arbitrary value to the input and returns the result. The variables `num_to_add` and `result` have private scope which means they are only accessible within the function."
   ]
  },
  {
   "cell_type": "code",
   "execution_count": 36,
   "metadata": {},
   "outputs": [],
   "source": [
    "def addTen(x):\n",
    "    num_to_add = 10\n",
    "    result = x + num_to_add\n",
    "    return result "
   ]
  },
  {
   "cell_type": "code",
   "execution_count": 37,
   "metadata": {},
   "outputs": [
    {
     "name": "stdout",
     "output_type": "stream",
     "text": [
      "13\n"
     ]
    }
   ],
   "source": [
    "myValue = 3\n",
    "myResult = addTen(myValue)\n",
    "print(myResult)"
   ]
  },
  {
   "cell_type": "markdown",
   "metadata": {},
   "source": [
    "The variable `num_to_add` is defined within the function `addTen()`, therefore it is inaccessible outside of it. The following code chunk will return an exception."
   ]
  },
  {
   "cell_type": "code",
   "execution_count": 38,
   "metadata": {},
   "outputs": [],
   "source": [
    "# Uncomment below line to execute. Exception expected\n",
    "# print(num_to_add)"
   ]
  },
  {
   "cell_type": "markdown",
   "metadata": {},
   "source": [
    "## Lab Exercise\n",
    "\n",
    "Write your own code to answer the questions below."
   ]
  },
  {
   "cell_type": "code",
   "execution_count": 39,
   "metadata": {},
   "outputs": [],
   "source": [
    "# What is the total box office of all films made by Sean Connery?\n",
    "# TODO: Add code in this box\n",
    "\n"
   ]
  },
  {
   "cell_type": "code",
   "execution_count": 40,
   "metadata": {},
   "outputs": [],
   "source": [
    "# How many films were made by Daniel Craig?\n",
    "# TODO: Add code in this box\n"
   ]
  },
  {
   "cell_type": "code",
   "execution_count": 41,
   "metadata": {},
   "outputs": [],
   "source": [
    "# Which film has the highest box office?\n",
    "# TODO: Add code in this box\n"
   ]
  }
 ],
 "metadata": {
  "kernelspec": {
   "display_name": ".venv",
   "language": "python",
   "name": "python3"
  },
  "language_info": {
   "codemirror_mode": {
    "name": "ipython",
    "version": 3
   },
   "file_extension": ".py",
   "mimetype": "text/x-python",
   "name": "python",
   "nbconvert_exporter": "python",
   "pygments_lexer": "ipython3",
   "version": "3.10.6"
  }
 },
 "nbformat": 4,
 "nbformat_minor": 2
}
