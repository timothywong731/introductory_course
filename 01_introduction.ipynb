{
 "cells": [
  {
   "cell_type": "markdown",
   "metadata": {},
   "source": [
    "# Setup\n",
    "\n",
    "You need to install `miniconda` which is a dependency manager for `python`. Go to this link to download the latest version: https://docs.anaconda.com/free/miniconda/\n",
    "\n",
    "As as developer, it is common to use an Interactive Development Environment (IDE) to develop your code. We will use Microsoft VScode which you can download here: https://code.visualstudio.com/"
   ]
  },
  {
   "cell_type": "markdown",
   "metadata": {},
   "source": [
    "# Programming Environment\n",
    "\n",
    "Python is a general purpose programming language which can also be used for statistics and machine learning. The language is open sourced and free for personal, academic and commerical use. It is available on multiple platforms including Windows, Linux and MacOS. In recent years, Python has gained popularity and become one of the fastest growing programming languages in the world. In\n",
    "this chapter, we will go through the basics of Python.\n",
    "\n",
    "Visual Studio Code (VS Code) is a popular Integrated Development Environment (IDE) for the many programming languages. It is a very powerful editor which enables programmers to interact with the Python language. It is also free for personal and commercial use."
   ]
  },
  {
   "cell_type": "markdown",
   "metadata": {},
   "source": [
    "## Packages\n",
    "\n",
    "Functionality in Python can be extended through packages. Most packages are opensourced with a few exceptions. They are published on community-maintained repositories such as [PyPi](https://pypi.org).\n",
    "\n",
    "Python packages already installed can be listed using the terminal command `pip freeze`. This can be executed in VS Code using the maginc command box. It starts with the `%` symbol followed by your terminal command:"
   ]
  },
  {
   "cell_type": "code",
   "execution_count": null,
   "metadata": {},
   "outputs": [],
   "source": [
    "# List all existing packages\n",
    "%pip freeze"
   ]
  },
  {
   "cell_type": "markdown",
   "metadata": {},
   "source": [
    "To install new packages, simply use the `pip install` command. The following code chunk will install the `pandas` package which handles data frame manipulation in Python."
   ]
  },
  {
   "cell_type": "code",
   "execution_count": null,
   "metadata": {},
   "outputs": [],
   "source": [
    "# Install the pandas package\n",
    "%pip install pandas"
   ]
  },
  {
   "cell_type": "markdown",
   "metadata": {},
   "source": [
    "# Programming Concepts\n",
    "\n",
    "In Python, values ares tored in variables. Users can assign value to variable using the `=` symbol. The `#` character is used for commenting.\n",
    "\n",
    "When creating a new variable, it is important to avoid using reserved words. A list of reserved words can be found here: https://www.w3schools.com/python/python_ref_keywords.asp"
   ]
  },
  {
   "cell_type": "code",
   "execution_count": null,
   "metadata": {},
   "outputs": [],
   "source": [
    "# This is a line of comment\n",
    "a = 5\n",
    "b = 20\n",
    "c = a * b\n",
    "print(c)"
   ]
  },
  {
   "cell_type": "markdown",
   "metadata": {},
   "source": [
    "Variables can be defined using different cases, as shown below. Different notations usually signify the scope (ie. local vs global) of the variables."
   ]
  },
  {
   "cell_type": "code",
   "execution_count": null,
   "metadata": {},
   "outputs": [],
   "source": [
    "# These are commonly used to denote local variables\n",
    "my_snake_case_var = \"This is snake case\"\n",
    "myCamalCaseVar = \"This is camal case\"\n",
    "MyPascalCaseVar = \"This is pascal case\"\n",
    "\n",
    "# This usually denotes global variables\n",
    "MY_UPPER_CASE_VAR = \"This is upper case\""
   ]
  },
  {
   "cell_type": "markdown",
   "metadata": {},
   "source": [
    "The function `myFunc()` below adds an arbitrary value to the input and returns the result. The variables `num_to_add` and `result` have private scope which means they are only accessible within the function."
   ]
  },
  {
   "cell_type": "code",
   "execution_count": null,
   "metadata": {},
   "outputs": [],
   "source": [
    "def myFunc(x):\n",
    "    num_to_add = 10\n",
    "    result = x + num_to_add\n",
    "    return result "
   ]
  },
  {
   "cell_type": "code",
   "execution_count": null,
   "metadata": {},
   "outputs": [],
   "source": [
    "myValue = 3\n",
    "myResult = myFunc(myValue)\n",
    "print(myResult)"
   ]
  },
  {
   "cell_type": "markdown",
   "metadata": {},
   "source": [
    "The variable `num_to_add` is defined within the function `myFunc()`, therefore it is inaccessible outside of it. The following code chunk will return an exception."
   ]
  },
  {
   "cell_type": "code",
   "execution_count": null,
   "metadata": {},
   "outputs": [],
   "source": [
    "# print(num_to_add)"
   ]
  },
  {
   "cell_type": "markdown",
   "metadata": {},
   "source": [
    "## Data Structures\n",
    "\n"
   ]
  },
  {
   "cell_type": "markdown",
   "metadata": {},
   "source": [
    "## List and Subsetting\n",
    "Variable can be in the form of a list if element are in the same type. Users can subset the list by index number."
   ]
  },
  {
   "cell_type": "code",
   "execution_count": null,
   "metadata": {},
   "outputs": [],
   "source": [
    "# Create a list\n",
    "myList1 = [1,2,3,4,5]\n",
    "\n",
    "# Print the list length\n",
    "len(myList1)"
   ]
  },
  {
   "cell_type": "code",
   "execution_count": null,
   "metadata": {},
   "outputs": [],
   "source": [
    "# Sum the value of a list\n",
    "sum(myList1)"
   ]
  },
  {
   "cell_type": "code",
   "execution_count": null,
   "metadata": {},
   "outputs": [],
   "source": [
    "# Maximum value of the list\n",
    "max(myList1)"
   ]
  },
  {
   "cell_type": "code",
   "execution_count": null,
   "metadata": {},
   "outputs": [],
   "source": [
    "# Minumum value of the list\n",
    "min(myList1)"
   ]
  },
  {
   "cell_type": "code",
   "execution_count": null,
   "metadata": {},
   "outputs": [],
   "source": [
    "# Arithmetic mean of the list\n",
    "sum(myList1) / len(myList1)"
   ]
  },
  {
   "cell_type": "markdown",
   "metadata": {},
   "source": [
    "Index numbers start count at zero. A list containing five elements would have indexes \\(0, 1, 2, 3, 4\\)."
   ]
  },
  {
   "cell_type": "code",
   "execution_count": null,
   "metadata": {},
   "outputs": [],
   "source": [
    "# Print our the element at index 3\n",
    "myList1[3]"
   ]
  },
  {
   "cell_type": "markdown",
   "metadata": {},
   "source": [
    "It is possible to loop through a list and perform some logic with it. See code chunk below:"
   ]
  },
  {
   "cell_type": "code",
   "execution_count": null,
   "metadata": {},
   "outputs": [],
   "source": [
    "# Using a for loop\n",
    "for i in myList1:\n",
    "    print(f\"The value is {i}.\")"
   ]
  },
  {
   "cell_type": "code",
   "execution_count": null,
   "metadata": {},
   "outputs": [],
   "source": [
    "# Using inline format to create a new list variable\n",
    "myList2 = [x*2 for x in myList1]\n",
    "print(myList2)"
   ]
  },
  {
   "cell_type": "markdown",
   "metadata": {},
   "source": [
    "A range can also be iterated through a for loop and perform similar operations."
   ]
  },
  {
   "cell_type": "code",
   "execution_count": null,
   "metadata": {},
   "outputs": [],
   "source": [
    "myList3 = range(10,20,2)\n",
    "for x in myList3:\n",
    "    print(x)"
   ]
  },
  {
   "cell_type": "markdown",
   "metadata": {},
   "source": [
    "## Datetime"
   ]
  },
  {
   "cell_type": "code",
   "execution_count": null,
   "metadata": {},
   "outputs": [],
   "source": [
    "import datetime\n",
    "myDate = datetime.datetime.fromisoformat(\"2024-05-15\")\n",
    "myDate"
   ]
  },
  {
   "cell_type": "code",
   "execution_count": null,
   "metadata": {},
   "outputs": [],
   "source": [
    "myNewDates = [myDate + datetime.timedelta(days=x) for x in myList1]\n",
    "myNewDates"
   ]
  },
  {
   "cell_type": "markdown",
   "metadata": {},
   "source": [
    "Users can perform datetime operations like below:"
   ]
  },
  {
   "cell_type": "code",
   "execution_count": null,
   "metadata": {},
   "outputs": [],
   "source": [
    "# Calculate the day of week of this date value\n",
    "# Return the day of the week as an integer, where Monday is 0 and Sunday is 6.\n",
    "myNewDates[2].weekday()"
   ]
  },
  {
   "cell_type": "code",
   "execution_count": null,
   "metadata": {},
   "outputs": [],
   "source": [
    "myNewDates[2] + datetime.timedelta(hours=5)"
   ]
  },
  {
   "cell_type": "markdown",
   "metadata": {},
   "source": [
    "## Logical Operators"
   ]
  },
  {
   "cell_type": "code",
   "execution_count": null,
   "metadata": {},
   "outputs": [],
   "source": [
    "myVar1 = 25\n",
    "myVar2 = 30"
   ]
  },
  {
   "cell_type": "code",
   "execution_count": null,
   "metadata": {},
   "outputs": [],
   "source": [
    "# Returns True if value is greater than 5\n",
    "myVar1 > 5"
   ]
  },
  {
   "cell_type": "code",
   "execution_count": null,
   "metadata": {},
   "outputs": [],
   "source": [
    "# Returns True if value is equal to 25\n",
    "myVar1 == 25"
   ]
  },
  {
   "cell_type": "code",
   "execution_count": null,
   "metadata": {},
   "outputs": [],
   "source": [
    "# Returns True if both conditions are satified\n",
    "myVar1 > 20 & myVar2 < 35"
   ]
  },
  {
   "cell_type": "code",
   "execution_count": null,
   "metadata": {},
   "outputs": [],
   "source": [
    "# Returns True if at least one condition is satified\n",
    "myVar1 > 20 | myVar2 < 20"
   ]
  },
  {
   "cell_type": "markdown",
   "metadata": {},
   "source": [
    "## Dictonary\n",
    "\n",
    "A dictionary can be used to store key-valyue-pairs of different types. Example below:"
   ]
  },
  {
   "cell_type": "code",
   "execution_count": null,
   "metadata": {},
   "outputs": [],
   "source": [
    "myPerson = {\n",
    "    \"name\": \"John Doe\",\n",
    "    \"dob\": datetime.datetime.fromisoformat(\"1980-06-20\"),\n",
    "    \"account_balance\": 387.59,\n",
    "}\n",
    "print(myPerson)"
   ]
  },
  {
   "cell_type": "code",
   "execution_count": null,
   "metadata": {},
   "outputs": [],
   "source": [
    "# Subset an element by name\n",
    "myPerson[\"account_balance\"]"
   ]
  },
  {
   "cell_type": "markdown",
   "metadata": {},
   "source": [
    "## If-Else Loops\n",
    "\n",
    "An `if-else` loop can be used to perform operations based on conditions."
   ]
  },
  {
   "cell_type": "code",
   "execution_count": null,
   "metadata": {},
   "outputs": [],
   "source": [
    "if myPerson[\"account_balance\"] > 100:\n",
    "    print(\"Full of cash\")\n",
    "else:\n",
    "    print(\"Insufficient money\")"
   ]
  },
  {
   "cell_type": "markdown",
   "metadata": {},
   "source": [
    "The `if` block can be placed within another loop to form complex logic. The code chunk below creates a new list from an existing list."
   ]
  },
  {
   "cell_type": "code",
   "execution_count": null,
   "metadata": {},
   "outputs": [],
   "source": [
    "myList4 = []\n",
    "\n",
    "for x in myList1:\n",
    "    if x > 2:\n",
    "        text = f\"Number is {x}\"\n",
    "        myList4.append(text)\n",
    "\n",
    "print(myList4)"
   ]
  },
  {
   "cell_type": "markdown",
   "metadata": {},
   "source": [
    "Inline `if-else` loop can be used instead. The following code chunk is rquivalent to the one above."
   ]
  },
  {
   "cell_type": "code",
   "execution_count": null,
   "metadata": {},
   "outputs": [],
   "source": [
    "myList4 = [f\"Number is {x}\" for x in myList1 if x > 2]\n",
    "print(myList4)"
   ]
  },
  {
   "cell_type": "markdown",
   "metadata": {},
   "source": [
    "## Data Frame\n",
    "\n",
    "A data frame is a list of variables of the same number of rows with unique column names. In many cases, datasets extracted from CSV file or SQL server are returned as a data frame object."
   ]
  },
  {
   "cell_type": "code",
   "execution_count": null,
   "metadata": {},
   "outputs": [],
   "source": [
    "import pandas as pd\n",
    "\n",
    "df = pd.DataFrame({\n",
    "    \"title\": [\n",
    "        \"Dr. No\",\n",
    "\t\t\"Goldfinger\",\n",
    "        \"Diamonds are Forever\",\n",
    "        \"Moonraker\",\n",
    "        \"The Living Daylights\",\n",
    "        \"GoldenEye\",\n",
    "        \"Casino Royale\"],\n",
    "    \"year\": [\n",
    "        1962, 1964, 1971, 1979, 1987, 1995, 2006],\n",
    "    \"box\": [59.5, 125, 120, 210.3, 191.2, 355, 599],\n",
    "    \"bondActor\": [\n",
    "        \"Sean Connery\",\n",
    "        \"Sean Connery\",\n",
    "        \"Sean Connery\",\n",
    "        \"Roger Moore\",\n",
    "        \"Timothy Dalton\",\n",
    "        \"Pierce Brosnan\",\n",
    "        \"Daniel Craig\"]\n",
    "})\n",
    "\n",
    "df"
   ]
  },
  {
   "cell_type": "markdown",
   "metadata": {},
   "source": [
    "Use the code chunk below to add a new row to an existing data frame."
   ]
  },
  {
   "cell_type": "code",
   "execution_count": null,
   "metadata": {},
   "outputs": [],
   "source": [
    "newRow = pd.DataFrame({\n",
    "    \"title\": [\"Spectre\"],\n",
    "    \"year\": [2015],\n",
    "    \"box\": [880.7],\n",
    "    \"bondActor\": [\"Daniel Craig\"]\n",
    "})\n",
    "\n",
    "df = pd.concat([df, newRow], ignore_index=True)\n",
    "\n",
    "df"
   ]
  },
  {
   "cell_type": "code",
   "execution_count": null,
   "metadata": {},
   "outputs": [],
   "source": [
    "# Subset a column by name\n",
    "df[\"bondActor\"]"
   ]
  },
  {
   "cell_type": "code",
   "execution_count": null,
   "metadata": {},
   "outputs": [],
   "source": [
    "# Computes Boolean flag  where row value is equal to a certain value\n",
    "df[\"bondActor\"] == \"Sean Connery\""
   ]
  },
  {
   "cell_type": "code",
   "execution_count": null,
   "metadata": {},
   "outputs": [],
   "source": [
    "# Subset the dataframe by filtering\n",
    "df[df[\"bondActor\"] == \"Sean Connery\"]"
   ]
  },
  {
   "cell_type": "markdown",
   "metadata": {},
   "source": [
    "Optionally, the dataframe can be subsetted by IDs using `df.iloc[:,:]` THe first value is the row index and second one is the column index. The `:` symbol indicates 'take everything'."
   ]
  },
  {
   "cell_type": "code",
   "execution_count": null,
   "metadata": {},
   "outputs": [],
   "source": [
    "# Subset by index\n",
    "df.iloc[5,:]"
   ]
  },
  {
   "cell_type": "markdown",
   "metadata": {},
   "source": [
    "## Lab Exercise\n",
    "\n",
    "Write your own code to answer the questions below."
   ]
  },
  {
   "cell_type": "code",
   "execution_count": null,
   "metadata": {},
   "outputs": [],
   "source": [
    "# What is the total box office of all films made by Sean Connery?\n",
    "# TODO: Add code in this box\n",
    "\n"
   ]
  },
  {
   "cell_type": "code",
   "execution_count": null,
   "metadata": {},
   "outputs": [],
   "source": [
    "# How many films were made by Daniel Craig?\n",
    "# TODO: Add code in this box\n"
   ]
  },
  {
   "cell_type": "code",
   "execution_count": null,
   "metadata": {},
   "outputs": [],
   "source": [
    "# Which film has the highest box office?\n",
    "# TODO: Add code in this box\n"
   ]
  }
 ],
 "metadata": {
  "kernelspec": {
   "display_name": ".venv",
   "language": "python",
   "name": "python3"
  },
  "language_info": {
   "codemirror_mode": {
    "name": "ipython",
    "version": 3
   },
   "file_extension": ".py",
   "mimetype": "text/x-python",
   "name": "python",
   "nbconvert_exporter": "python",
   "pygments_lexer": "ipython3",
   "version": "3.10.6"
  }
 },
 "nbformat": 4,
 "nbformat_minor": 2
}
