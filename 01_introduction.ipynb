{
 "cells": [
  {
   "cell_type": "markdown",
   "metadata": {},
   "source": [
    "# Setup\n",
    "\n",
    "You need to install `miniconda` which is a dependency manager for `python`. Go to this link to download the latest version: https://docs.anaconda.com/free/miniconda/\n",
    "\n",
    "As as developer, it is common to use an Interactive Development Environment (IDE) to develop your code. We will use Microsoft VScode which you can download here: https://code.visualstudio.com/"
   ]
  },
  {
   "cell_type": "markdown",
   "metadata": {},
   "source": [
    "# Programming Environment\n",
    "\n",
    "Python is a general purpose programming language which can also be used for statistics and machine learning. The language is open sourced and free for personal, academic and commerical use. It is available on multiple platforms including Windows, Linux and MacOS. In recent years, Python has gained popularity and become one of the fastest growing programming languages in the world. In\n",
    "this chapter, we will go through the basics of Python.\n",
    "\n",
    "Visual Studio Code (VS Code) is a popular Integrated Development Environment (IDE) for the many programming languages. It is a very powerful editor which enables programmers to interact with the Python language. It is also free for personal and commercial use."
   ]
  },
  {
   "cell_type": "markdown",
   "metadata": {},
   "source": [
    "## Packages\n",
    "\n",
    "Functionality in Python can be extended through packages. Most packages are opensourced with a few exceptions. They are published on community-maintained repositories such as [PyPi](https://pypi.org).\n",
    "\n",
    "Python packages already installed can be listed using the terminal command `pip freeze`. This can be executed in VS Code using the maginc command box. It starts with the `!` symbol followed by your terminal command:"
   ]
  },
  {
   "cell_type": "code",
   "execution_count": null,
   "metadata": {},
   "outputs": [],
   "source": [
    "# List all existing packages\n",
    "!pip freeze"
   ]
  },
  {
   "cell_type": "markdown",
   "metadata": {},
   "source": [
    "To install new packages, simply use the `pip install` command. The following code chunk will install the `pandas` package which handles data frame manipulation in Python."
   ]
  },
  {
   "cell_type": "code",
   "execution_count": null,
   "metadata": {},
   "outputs": [],
   "source": [
    "# Install the pandas package\n",
    "!pip install pandas"
   ]
  },
  {
   "cell_type": "markdown",
   "metadata": {},
   "source": [
    "# Programming Concepts\n",
    "\n",
    "In Python, values ares tored in variables. Users can assign value to variable using the `=` symbol. The `#` character is used for commenting.\n",
    "\n",
    "When creating a new variable, it is important to avoid using reserved words. A list of reserved words can be found here: https://www.w3schools.com/python/python_ref_keywords.asp"
   ]
  },
  {
   "cell_type": "code",
   "execution_count": null,
   "metadata": {},
   "outputs": [],
   "source": [
    "# This is a line of comment\n",
    "a = 5\n",
    "b = 20\n",
    "c = a * b\n",
    "print(c)"
   ]
  },
  {
   "cell_type": "markdown",
   "metadata": {},
   "source": [
    "Variables can be defined using different cases, as shown below. Different notations usually signify the scope (ie. local vs global) of the variables."
   ]
  },
  {
   "cell_type": "code",
   "execution_count": null,
   "metadata": {},
   "outputs": [],
   "source": [
    "# These are commonly used to denote local variables\n",
    "my_snake_case_var = \"This is snake case\"\n",
    "myCamalCaseVar = \"This is camal case\"\n",
    "MyPascalCaseVar = \"This is pascal case\"\n",
    "\n",
    "# This usually denotes global variables\n",
    "MY_UPPER_CASE_VAR = \"This is upper case\""
   ]
  },
  {
   "cell_type": "markdown",
   "metadata": {},
   "source": [
    "The function `myFunc()` below adds an arbitrary value to the input and returns the result. The variables `num_to_add` and `result` have private scope which means they are only accessible within the function."
   ]
  },
  {
   "cell_type": "code",
   "execution_count": null,
   "metadata": {},
   "outputs": [],
   "source": [
    "def myFunc(x):\n",
    "    num_to_add = 10\n",
    "    result = x + num_to_add\n",
    "    return result "
   ]
  },
  {
   "cell_type": "code",
   "execution_count": null,
   "metadata": {},
   "outputs": [],
   "source": [
    "myValue = 3\n",
    "myResult = myFunc(myValue)\n",
    "print(myResult)"
   ]
  },
  {
   "cell_type": "markdown",
   "metadata": {},
   "source": [
    "The variable `num_to_add` is defined within the function `myFunc()`, therefore it is inaccessible outside of it. The following code chunk will return an exception."
   ]
  },
  {
   "cell_type": "code",
   "execution_count": null,
   "metadata": {},
   "outputs": [],
   "source": [
    "print(num_to_add)"
   ]
  },
  {
   "cell_type": "markdown",
   "metadata": {},
   "source": [
    "## Data Structure\n",
    "\n"
   ]
  },
  {
   "cell_type": "code",
   "execution_count": null,
   "metadata": {},
   "outputs": [
    {
     "ename": "",
     "evalue": "",
     "output_type": "error",
     "traceback": [
      "\u001b[1;31mRunning cells with '.venv' requires the ipykernel package.\n",
      "\u001b[1;31mRun the following command to install 'ipykernel' into the Python environment. \n",
      "\u001b[1;31mCommand: 'd:/dev/introductory_course/.venv/Scripts/python.exe -m pip install ipykernel -U --force-reinstall'"
     ]
    }
   ],
   "source": [
    "myList = [1,2,3,4,5]\n",
    "\n",
    "len(myList)"
   ]
  },
  {
   "cell_type": "code",
   "execution_count": null,
   "metadata": {},
   "outputs": [],
   "source": []
  },
  {
   "cell_type": "code",
   "execution_count": null,
   "metadata": {},
   "outputs": [],
   "source": []
  },
  {
   "cell_type": "code",
   "execution_count": null,
   "metadata": {},
   "outputs": [],
   "source": [
    "import pandas as pd"
   ]
  },
  {
   "cell_type": "code",
   "execution_count": null,
   "metadata": {},
   "outputs": [],
   "source": [
    "df = pd.DataFrame({\n",
    "    \"fruit\": [\"Apple\", \"Banana\", \"Coconut\"],\n",
    "    \"price\": [1.0, 0.8, 1.2]\n",
    "})"
   ]
  },
  {
   "cell_type": "code",
   "execution_count": null,
   "metadata": {},
   "outputs": [],
   "source": []
  },
  {
   "cell_type": "code",
   "execution_count": null,
   "metadata": {},
   "outputs": [],
   "source": []
  },
  {
   "cell_type": "code",
   "execution_count": null,
   "metadata": {},
   "outputs": [],
   "source": []
  }
 ],
 "metadata": {
  "kernelspec": {
   "display_name": ".venv",
   "language": "python",
   "name": "python3"
  },
  "language_info": {
   "codemirror_mode": {
    "name": "ipython",
    "version": 3
   },
   "file_extension": ".py",
   "mimetype": "text/x-python",
   "name": "python",
   "nbconvert_exporter": "python",
   "pygments_lexer": "ipython3",
   "version": "3.10.6"
  }
 },
 "nbformat": 4,
 "nbformat_minor": 2
}
