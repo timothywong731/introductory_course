{
 "cells": [
  {
   "cell_type": "markdown",
   "metadata": {},
   "source": [
    "# Step-by-Step Pandas Tutorial Using the Titanic Dataset\n",
    "Let's create a basic tutorial on using pandas for data manipulation and matplotlib for visualization with the Titanic dataset.\n",
    "\n",
    "## Step 1: Install Required Libraries\n",
    "Ensure you have pandas and matplotlib installed. You can install them using pip if you haven't already:"
   ]
  },
  {
   "cell_type": "code",
   "execution_count": null,
   "metadata": {},
   "outputs": [],
   "source": [
    "!pip install pandas matplotlib"
   ]
  },
  {
   "cell_type": "markdown",
   "metadata": {},
   "source": [
    "## Step 2: Import Necessary Libraries\n",
    "First, we need to import the required libraries:"
   ]
  },
  {
   "cell_type": "code",
   "execution_count": null,
   "metadata": {},
   "outputs": [],
   "source": [
    "import pandas as pd\n",
    "import matplotlib.pyplot as plt"
   ]
  },
  {
   "cell_type": "markdown",
   "metadata": {},
   "source": [
    "We'll download the dataset from the internet and load it into a `pandas` dataframe."
   ]
  },
  {
   "cell_type": "code",
   "execution_count": null,
   "metadata": {},
   "outputs": [],
   "source": [
    "url = \"https://raw.githubusercontent.com/datasciencedojo/datasets/master/titanic.csv\"\n",
    "titanic = pd.read_csv(url)"
   ]
  },
  {
   "cell_type": "code",
   "execution_count": null,
   "metadata": {},
   "outputs": [],
   "source": [
    "# Display the dataset\n",
    "titanic"
   ]
  },
  {
   "cell_type": "markdown",
   "metadata": {},
   "source": [
    "## Step 4: Explore the Dataset\n",
    "Let's take a quick look at the dataset:"
   ]
  },
  {
   "cell_type": "code",
   "execution_count": null,
   "metadata": {},
   "outputs": [],
   "source": [
    "print(titanic.info())"
   ]
  },
  {
   "cell_type": "code",
   "execution_count": null,
   "metadata": {},
   "outputs": [],
   "source": [
    "print(titanic.describe())"
   ]
  },
  {
   "cell_type": "markdown",
   "metadata": {},
   "source": [
    "## Step 5: Data Cleaning\n",
    "Before analysis, we need to clean the data. We'll handle missing values and convert necessary columns to the correct data types:"
   ]
  },
  {
   "cell_type": "code",
   "execution_count": null,
   "metadata": {},
   "outputs": [],
   "source": [
    "# Fill missing age values with the median age\n",
    "titanic['Age'].fillna(titanic['Age'].median(), inplace=True)"
   ]
  },
  {
   "cell_type": "code",
   "execution_count": null,
   "metadata": {},
   "outputs": [],
   "source": [
    "# Fill missing embarked values with the most common port\n",
    "titanic['Embarked'].fillna(titanic['Embarked'].mode()[0], inplace=True)"
   ]
  },
  {
   "cell_type": "code",
   "execution_count": null,
   "metadata": {},
   "outputs": [],
   "source": [
    "# Drop the Cabin column due to too many missing values\n",
    "titanic.drop(columns=['Cabin'], inplace=True)"
   ]
  },
  {
   "cell_type": "code",
   "execution_count": null,
   "metadata": {},
   "outputs": [],
   "source": [
    "# Convert 'Survived' column to a categorical type\n",
    "titanic['Survived'] = titanic['Survived'].astype('category')"
   ]
  },
  {
   "cell_type": "markdown",
   "metadata": {},
   "source": [
    "## Step 6: Data Analysis\n",
    "Now, let's perform some basic data analysis."
   ]
  },
  {
   "cell_type": "markdown",
   "metadata": {},
   "source": [
    "### 6.1 Survival Rate by Groups\n"
   ]
  },
  {
   "cell_type": "code",
   "execution_count": null,
   "metadata": {},
   "outputs": [],
   "source": [
    "# Make sure column are represented in integer type\n",
    "titanic['Survived'] = titanic['Survived'].astype(int)"
   ]
  },
  {
   "cell_type": "code",
   "execution_count": null,
   "metadata": {},
   "outputs": [],
   "source": [
    "survival_rate_by_gender = titanic.groupby('Sex')['Survived'].mean()\n",
    "print(survival_rate_by_gender)"
   ]
  },
  {
   "cell_type": "code",
   "execution_count": null,
   "metadata": {},
   "outputs": [],
   "source": [
    "survival_rate_by_class = titanic.groupby('Pclass')['Survived'].mean()\n",
    "print(survival_rate_by_class)"
   ]
  },
  {
   "cell_type": "markdown",
   "metadata": {},
   "source": [
    "# Step 7: Data Visualization\n",
    "\n",
    "We'll use matplotlib to create some basic visualizations."
   ]
  },
  {
   "cell_type": "code",
   "execution_count": null,
   "metadata": {},
   "outputs": [],
   "source": [
    "# Histogram of Ages\n",
    "plt.hist(titanic['Age'], bins=30, edgecolor='k', alpha=0.7)\n",
    "plt.title('Distribution of Ages on the Titanic')\n",
    "plt.xlabel('Age')\n",
    "plt.ylabel('Frequency')\n",
    "plt.show()"
   ]
  },
  {
   "cell_type": "code",
   "execution_count": null,
   "metadata": {},
   "outputs": [],
   "source": [
    "# Survival Rate by Gender (Bar Chart)\n",
    "survival_rate_by_gender.plot(kind='bar', color=['blue', 'orange'])\n",
    "plt.title('Survival Rate by Gender')\n",
    "plt.xlabel('Gender')\n",
    "plt.ylabel('Survival Rate')\n",
    "plt.xticks(rotation=0)\n",
    "plt.show()"
   ]
  },
  {
   "cell_type": "code",
   "execution_count": null,
   "metadata": {},
   "outputs": [],
   "source": [
    "# Survival Rate by Class (Bar Chart)\n",
    "survival_rate_by_class.plot(kind='bar', color='green')\n",
    "plt.title('Survival Rate by Class')\n",
    "plt.xlabel('Class')\n",
    "plt.ylabel('Survival Rate')\n",
    "plt.xticks(rotation=0)\n",
    "plt.show()"
   ]
  },
  {
   "cell_type": "code",
   "execution_count": null,
   "metadata": {},
   "outputs": [],
   "source": [
    "# Age Distribution by Survival Status (Box Plot)\n",
    "titanic.boxplot(column='Age', by='Survived', grid=False)\n",
    "plt.title('Age Distribution by Survival Status')\n",
    "plt.suptitle('')  # Suppress the default title to only show the custom title\n",
    "plt.xlabel('Survived')\n",
    "plt.ylabel('Age')\n",
    "plt.show()"
   ]
  },
  {
   "cell_type": "markdown",
   "metadata": {},
   "source": [
    "# Step 8: Age prediction\n",
    "\n",
    "Use statistical model to predict passenger's age. \n",
    "\n",
    "'Dummy variables' have to be calculated for all categorial variables. They must be converted to `(1, 0)`."
   ]
  },
  {
   "cell_type": "code",
   "execution_count": null,
   "metadata": {},
   "outputs": [],
   "source": [
    "titantic_dummified = pd.get_dummies(titanic, columns=['Sex', 'Embarked', 'Pclass'], drop_first=True)\n",
    "\n",
    "# View the dummified dataset\n",
    "titantic_dummified"
   ]
  },
  {
   "cell_type": "code",
   "execution_count": null,
   "metadata": {},
   "outputs": [],
   "source": [
    "# Construct two dataframes\n",
    "\n",
    "# X is for the feature data, also known as independent variables.\n",
    "features = ['Pclass_2', 'Pclass_3', 'SibSp', 'Parch', 'Fare', 'Sex_male', 'Embarked_Q', 'Embarked_S']\n",
    "X = titantic_dummified[features]\n",
    "\n",
    "# The Y dataframe has only one column, this is the target variable which we want to predict.\n",
    "Y = titantic_dummified['Age']"
   ]
  },
  {
   "cell_type": "code",
   "execution_count": null,
   "metadata": {},
   "outputs": [],
   "source": [
    "from sklearn.model_selection import train_test_split\n",
    "from sklearn.linear_model import LinearRegression\n",
    "from sklearn.metrics import mean_squared_error, r2_score"
   ]
  },
  {
   "cell_type": "code",
   "execution_count": null,
   "metadata": {},
   "outputs": [],
   "source": [
    "# Split the dataset into two parts: \n",
    "# 80% -> train\n",
    "# 20% -> test\n",
    "X_train, X_test, Y_train, Y_test = train_test_split(X, Y, test_size=0.2, random_state=42)"
   ]
  },
  {
   "cell_type": "code",
   "execution_count": null,
   "metadata": {},
   "outputs": [],
   "source": [
    "# Load up the Linear Regression model\n",
    "model = LinearRegression()"
   ]
  },
  {
   "cell_type": "code",
   "execution_count": null,
   "metadata": {},
   "outputs": [],
   "source": [
    "# Train the model\n",
    "model.fit(X_train, Y_train)"
   ]
  },
  {
   "cell_type": "code",
   "execution_count": null,
   "metadata": {},
   "outputs": [],
   "source": [
    "# Model has been trained, now make a prediction\n",
    "yhat = model.predict(X_test)"
   ]
  },
  {
   "cell_type": "code",
   "execution_count": null,
   "metadata": {},
   "outputs": [],
   "source": [
    "mse = mean_squared_error(Y_test, yhat)\n",
    "r2 = r2_score(Y_test, yhat)\n",
    "\n",
    "print(f\"Mean Squared Error: {mse}\")\n",
    "print(f\"R^2 Score: {r2}\")"
   ]
  },
  {
   "cell_type": "code",
   "execution_count": null,
   "metadata": {},
   "outputs": [],
   "source": [
    "plt.scatter(Y_test, yhat, alpha=0.7)\n",
    "plt.xlabel(\"Actual Age\")\n",
    "plt.ylabel(\"Predicted Age\")\n",
    "plt.title(\"Actual vs Predicted Age\")\n",
    "plt.show()"
   ]
  },
  {
   "cell_type": "code",
   "execution_count": null,
   "metadata": {},
   "outputs": [],
   "source": [
    "def predict_age(model, passenger_details):\n",
    "    \"\"\"\n",
    "    Predict the age of an arbitrary passenger using the trained model.\n",
    "    \n",
    "    Parameters:\n",
    "    - model: Trained linear regression model.\n",
    "    - passenger_details: Dictionary containing passenger details.\n",
    "    \n",
    "    Returns:\n",
    "    - Predicted age.\n",
    "    \"\"\"\n",
    "    # Create a DataFrame from the passenger details\n",
    "    passenger_df = pd.DataFrame([passenger_details])\n",
    "    \n",
    "    # Ensure all required columns are present\n",
    "    required_columns = ['Pclass_2', 'Pclass_3', 'SibSp', 'Parch', 'Fare', 'Sex_male', 'Embarked_Q', 'Embarked_S']\n",
    "    for col in required_columns:\n",
    "        if col not in passenger_df:\n",
    "            passenger_df[col] = 0\n",
    "    \n",
    "    # Reorder columns to match the training data\n",
    "    passenger_df = passenger_df[required_columns]\n",
    "    \n",
    "    # Predict age\n",
    "    predicted_age = model.predict(passenger_df)\n",
    "    return predicted_age[0]\n"
   ]
  },
  {
   "cell_type": "code",
   "execution_count": null,
   "metadata": {},
   "outputs": [],
   "source": [
    "# Sample passenger details\n",
    "sample_passenger = {\n",
    "    'Pclass_2': True,\n",
    "    'Pclass_3': False,\n",
    "    'SibSp': 0,\n",
    "    'Parch': 0,\n",
    "    'Fare': 7.25,\n",
    "    'Sex_male': 1,\n",
    "    'Embarked_Q': 0,\n",
    "    'Embarked_S': 1\n",
    "}\n",
    "\n",
    "# Predict the age of the sample passenger\n",
    "predicted_age = predict_age(model, sample_passenger)\n",
    "print(f\"Predicted Age: {predicted_age}\")"
   ]
  },
  {
   "cell_type": "code",
   "execution_count": null,
   "metadata": {},
   "outputs": [],
   "source": []
  }
 ],
 "metadata": {
  "kernelspec": {
   "display_name": ".venv",
   "language": "python",
   "name": "python3"
  },
  "language_info": {
   "codemirror_mode": {
    "name": "ipython",
    "version": 3
   },
   "file_extension": ".py",
   "mimetype": "text/x-python",
   "name": "python",
   "nbconvert_exporter": "python",
   "pygments_lexer": "ipython3",
   "version": "3.10.6"
  }
 },
 "nbformat": 4,
 "nbformat_minor": 2
}
